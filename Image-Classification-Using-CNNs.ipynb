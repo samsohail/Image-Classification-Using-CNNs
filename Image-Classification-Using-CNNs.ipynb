{
  "nbformat": 4,
  "nbformat_minor": 0,
  "metadata": {
    "colab": {
      "provenance": []
    },
    "kernelspec": {
      "name": "python3",
      "display_name": "Python 3"
    },
    "language_info": {
      "name": "python"
    }
  },
  "cells": [
    {
      "cell_type": "markdown",
      "source": [
        "## Problem Statement:\n",
        "\n",
        "The business problem we are addressing is related to the fashion industry, where accurate classification of clothing items is crucial for inventory management, trend analysis, and customer satisfaction. Automating the classification process can save time and reduce errors compared to manual tagging."
      ],
      "metadata": {
        "id": "NtAWppNCfbrf"
      }
    },
    {
      "cell_type": "markdown",
      "source": [
        "## Data Exploration\n",
        "Data Exploration:\n",
        "\n",
        "Dataset Characteristics: The Fashion MNIST dataset consists of 60,000 training images and 10,000 test images. Each image is 28x28 pixels in grayscale.\n",
        "Data Quality Issues: We will check for any missing or corrupt images, although this dataset is known to be clean.\n",
        "Sampling/Balancing: The dataset is balanced, with an equal number of images per class.\n",
        "Evaluation Metrics: We will use accuracy as the primary evaluation metric, but we will also consider precision, recall, and F1-score."
      ],
      "metadata": {
        "id": "pprNNrOefx7s"
      }
    },
    {
      "cell_type": "code",
      "source": [
        "import tensorflow as tf\n",
        "from tensorflow.keras.datasets import fashion_mnist\n",
        "import matplotlib.pyplot as plt\n",
        "import numpy as np\n",
        "import pandas as pd\n",
        "\n",
        "\n",
        "(x_train, y_train), (x_test, y_test) = fashion_mnist.load_data()\n",
        "\n",
        "\n",
        "print(f\"Training data shape: {x_train.shape}\")\n",
        "print(f\"Test data shape: {x_test.shape}\")\n",
        "\n",
        "\n",
        "fig, axes = plt.subplots(1, 5, figsize=(15, 3))\n",
        "for i, ax in enumerate(axes):\n",
        "    ax.imshow(x_train[i], cmap='gray')\n",
        "    ax.set_title(f\"Label: {y_train[i]}\")\n",
        "plt.show()\n"
      ],
      "metadata": {
        "colab": {
          "base_uri": "https://localhost:8080/",
          "height": 457
        },
        "id": "2TjSZ_0Cf0Qx",
        "outputId": "994deb9e-a5e1-44ce-b41a-64357d177fe5"
      },
      "execution_count": null,
      "outputs": [
        {
          "output_type": "stream",
          "name": "stdout",
          "text": [
            "Downloading data from https://storage.googleapis.com/tensorflow/tf-keras-datasets/train-labels-idx1-ubyte.gz\n",
            "29515/29515 [==============================] - 0s 0us/step\n",
            "Downloading data from https://storage.googleapis.com/tensorflow/tf-keras-datasets/train-images-idx3-ubyte.gz\n",
            "26421880/26421880 [==============================] - 0s 0us/step\n",
            "Downloading data from https://storage.googleapis.com/tensorflow/tf-keras-datasets/t10k-labels-idx1-ubyte.gz\n",
            "5148/5148 [==============================] - 0s 0us/step\n",
            "Downloading data from https://storage.googleapis.com/tensorflow/tf-keras-datasets/t10k-images-idx3-ubyte.gz\n",
            "4422102/4422102 [==============================] - 0s 0us/step\n",
            "Training data shape: (60000, 28, 28)\n",
            "Test data shape: (10000, 28, 28)\n"
          ]
        },
        {
          "output_type": "display_data",
          "data": {
            "text/plain": [
              "<Figure size 1500x300 with 5 Axes>"
            ],
            "image/png": "[encoded data removed]"
          },
          "metadata": {}
        }
      ]
    },
    {
      "cell_type": "markdown",
      "source": [
        "##Data Preprocessing and Feature Engineering\n",
        "Data Preprocessing:\n",
        "\n",
        "Normalize the pixel values to the range [0, 1].\n",
        "Reshape the images to a format suitable for neural network input."
      ],
      "metadata": {
        "id": "JFSle-pEgM3R"
      }
    },
    {
      "cell_type": "code",
      "source": [
        "\n",
        "x_train = x_train.astype('float32') / 255.0\n",
        "x_test = x_test.astype('float32') / 255.0\n",
        "\n",
        "\n",
        "x_train = x_train.reshape(-1, 28, 28, 1)\n",
        "x_test = x_test.reshape(-1, 28, 28, 1)\n",
        "\n",
        "\n",
        "from sklearn.model_selection import train_test_split\n",
        "x_train, x_val, y_train, y_val = train_test_split(x_train, y_train, test_size=0.2, random_state=42)\n",
        "\n",
        "print(f\"Training set shape: {x_train.shape}\")\n",
        "print(f\"Validation set shape: {x_val.shape}\")\n",
        "print(f\"Test set shape: {x_test.shape}\")\n"
      ],
      "metadata": {
        "colab": {
          "base_uri": "https://localhost:8080/"
        },
        "id": "7dOyBvCFgTi2",
        "outputId": "fa1478b6-3b5d-4cd5-8bf1-c2dd3523f181"
      },
      "execution_count": null,
      "outputs": [
        {
          "output_type": "stream",
          "name": "stdout",
          "text": [
            "Training set shape: (48000, 28, 28, 1)\n",
            "Validation set shape: (12000, 28, 28, 1)\n",
            "Test set shape: (10000, 28, 28, 1)\n"
          ]
        }
      ]
    },
    {
      "cell_type": "markdown",
      "source": [
        "## Model Training\n",
        "Model Training:\n",
        "\n",
        "We will train a convolutional neural network (CNN) as it is well-suited for image data."
      ],
      "metadata": {
        "id": "gWLpBQhngtzq"
      }
    },
    {
      "cell_type": "code",
      "source": [
        "from tensorflow.keras.models import Sequential\n",
        "from tensorflow.keras.layers import Conv2D, MaxPooling2D, Flatten, Dense, Dropout\n",
        "from tensorflow.keras.optimizers import Adam\n",
        "\n",
        "def build_model(input_shape, learning_rate=0.001):\n",
        "    model = Sequential()\n",
        "    model.add(Conv2D(32, kernel_size=(3, 3), activation='relu', input_shape=input_shape))\n",
        "    model.add(MaxPooling2D(pool_size=(2, 2)))\n",
        "    model.add(Dropout(0.25))\n",
        "    model.add(Conv2D(64, kernel_size=(3, 3), activation='relu'))\n",
        "    model.add(MaxPooling2D(pool_size=(2, 2)))\n",
        "    model.add(Dropout(0.25))\n",
        "    model.add(Flatten())\n",
        "    model.add(Dense(128, activation='relu'))\n",
        "    model.add(Dropout(0.5))\n",
        "    model.add(Dense(10, activation='softmax'))\n",
        "\n",
        "    optimizer = Adam(learning_rate=learning_rate)\n",
        "    model.compile(optimizer=optimizer, loss='sparse_categorical_crossentropy', metrics=['accuracy'])\n",
        "\n",
        "    return model\n",
        "\n",
        "\n",
        "input_shape = (28, 28, 1)\n",
        "model = build_model(input_shape)\n",
        "\n",
        "history = model.fit(x_train, y_train, validation_data=(x_val, y_val), epochs=20, batch_size=32, verbose=1)\n"
      ],
      "metadata": {
        "colab": {
          "base_uri": "https://localhost:8080/"
        },
        "id": "aMBYLPVqgtVZ",
        "outputId": "06df12a6-75ec-41d6-b01b-f36aabb2ea4e"
      },
      "execution_count": null,
      "outputs": [
        {
          "output_type": "stream",
          "name": "stdout",
          "text": [
            "Epoch 1/20\n",
            "1500/1500 [==============================] - 59s 38ms/step - loss: 0.6588 - accuracy: 0.7542 - val_loss: 0.4120 - val_accuracy: 0.8499\n",
            "Epoch 2/20\n",
            "1500/1500 [==============================] - 58s 39ms/step - loss: 0.4540 - accuracy: 0.8337 - val_loss: 0.3521 - val_accuracy: 0.8707\n",
            "Epoch 3/20\n",
            "1500/1500 [==============================] - 63s 42ms/step - loss: 0.3959 - accuracy: 0.8575 - val_loss: 0.3055 - val_accuracy: 0.8867\n",
            "Epoch 4/20\n",
            "1500/1500 [==============================] - 61s 41ms/step - loss: 0.3624 - accuracy: 0.8687 - val_loss: 0.2913 - val_accuracy: 0.8917\n",
            "Epoch 5/20\n",
            "1500/1500 [==============================] - 61s 41ms/step - loss: 0.3430 - accuracy: 0.8748 - val_loss: 0.2740 - val_accuracy: 0.8977\n",
            "Epoch 6/20\n",
            "1500/1500 [==============================] - 64s 42ms/step - loss: 0.3258 - accuracy: 0.8811 - val_loss: 0.2658 - val_accuracy: 0.9008\n",
            "Epoch 7/20\n",
            "1500/1500 [==============================] - 62s 41ms/step - loss: 0.3151 - accuracy: 0.8843 - val_loss: 0.2652 - val_accuracy: 0.9008\n",
            "Epoch 8/20\n",
            "1500/1500 [==============================] - 60s 40ms/step - loss: 0.3055 - accuracy: 0.8866 - val_loss: 0.2505 - val_accuracy: 0.9062\n",
            "Epoch 9/20\n",
            "1500/1500 [==============================] - 62s 42ms/step - loss: 0.2916 - accuracy: 0.8923 - val_loss: 0.2617 - val_accuracy: 0.9019\n",
            "Epoch 10/20\n",
            "1500/1500 [==============================] - 62s 41ms/step - loss: 0.2885 - accuracy: 0.8929 - val_loss: 0.2530 - val_accuracy: 0.9075\n",
            "Epoch 11/20\n",
            "1500/1500 [==============================] - 61s 40ms/step - loss: 0.2815 - accuracy: 0.8954 - val_loss: 0.2493 - val_accuracy: 0.9070\n",
            "Epoch 12/20\n",
            "1500/1500 [==============================] - 59s 39ms/step - loss: 0.2748 - accuracy: 0.8980 - val_loss: 0.2539 - val_accuracy: 0.9044\n",
            "Epoch 13/20\n",
            "1500/1500 [==============================] - 59s 39ms/step - loss: 0.2687 - accuracy: 0.9016 - val_loss: 0.2488 - val_accuracy: 0.9051\n",
            "Epoch 14/20\n",
            "1500/1500 [==============================] - 61s 41ms/step - loss: 0.2684 - accuracy: 0.8998 - val_loss: 0.2453 - val_accuracy: 0.9104\n",
            "Epoch 15/20\n",
            "1500/1500 [==============================] - 60s 40ms/step - loss: 0.2622 - accuracy: 0.9032 - val_loss: 0.2504 - val_accuracy: 0.9087\n",
            "Epoch 16/20\n",
            "1500/1500 [==============================] - 61s 41ms/step - loss: 0.2566 - accuracy: 0.9055 - val_loss: 0.2396 - val_accuracy: 0.9106\n",
            "Epoch 17/20\n",
            "1500/1500 [==============================] - 60s 40ms/step - loss: 0.2554 - accuracy: 0.9051 - val_loss: 0.2381 - val_accuracy: 0.9133\n",
            "Epoch 18/20\n",
            "1500/1500 [==============================] - 61s 41ms/step - loss: 0.2498 - accuracy: 0.9076 - val_loss: 0.2382 - val_accuracy: 0.9125\n",
            "Epoch 19/20\n",
            "1500/1500 [==============================] - 60s 40ms/step - loss: 0.2466 - accuracy: 0.9075 - val_loss: 0.2335 - val_accuracy: 0.9130\n",
            "Epoch 20/20\n",
            "1500/1500 [==============================] - 59s 40ms/step - loss: 0.2468 - accuracy: 0.9066 - val_loss: 0.2359 - val_accuracy: 0.9148\n"
          ]
        }
      ]
    },
    {
      "cell_type": "markdown",
      "source": [
        "## Experimental Section\n",
        "Hyperparameter Tuning:\n",
        "\n",
        "Manually change hyperparameters and record results."
      ],
      "metadata": {
        "id": "K6zTA657g3vY"
      }
    },
    {
      "cell_type": "code",
      "source": [
        "\n",
        "hyperparameters = [\n",
        "    {'learning_rate': 0.001, 'batch_size': 32},\n",
        "    {'learning_rate': 0.001, 'batch_size': 64},\n",
        "    {'learning_rate': 0.0001, 'batch_size': 32},\n",
        "    {'learning_rate': 0.0001, 'batch_size': 64},\n",
        "\n",
        "]\n",
        "\n",
        "results = []\n",
        "\n",
        "for params in hyperparameters:\n",
        "    model = build_model(input_shape, learning_rate=params['learning_rate'])\n",
        "    history = model.fit(x_train, y_train, validation_data=(x_val, y_val), epochs=20, batch_size=params['batch_size'], verbose=1)\n",
        "    val_loss, val_accuracy = model.evaluate(x_val, y_val, verbose=0)\n",
        "\n",
        "    results.append({\n",
        "        'learning_rate': params['learning_rate'],\n",
        "        'batch_size': params['batch_size'],\n",
        "        'val_accuracy': val_accuracy\n",
        "    })\n",
        "\n",
        "results_df = pd.DataFrame(results)\n",
        "print(results_df)\n"
      ],
      "metadata": {
        "colab": {
          "base_uri": "https://localhost:8080/"
        },
        "id": "QNv8Mk09g9Gg",
        "outputId": "2479cc2b-cafd-4d1b-9e95-eef3d47b0cef"
      },
      "execution_count": null,
      "outputs": [
        {
          "output_type": "stream",
          "name": "stdout",
          "text": [
            "Epoch 1/20\n",
            "1500/1500 [==============================] - 64s 42ms/step - loss: 0.6450 - accuracy: 0.7634 - val_loss: 0.4293 - val_accuracy: 0.8444\n",
            "Epoch 2/20\n",
            "1500/1500 [==============================] - 62s 41ms/step - loss: 0.4476 - accuracy: 0.8368 - val_loss: 0.3382 - val_accuracy: 0.8733\n",
            "Epoch 3/20\n",
            "1500/1500 [==============================] - 60s 40ms/step - loss: 0.3933 - accuracy: 0.8579 - val_loss: 0.3185 - val_accuracy: 0.8794\n",
            "Epoch 4/20\n",
            "1500/1500 [==============================] - 63s 42ms/step - loss: 0.3606 - accuracy: 0.8699 - val_loss: 0.2873 - val_accuracy: 0.8937\n",
            "Epoch 5/20\n",
            "1500/1500 [==============================] - 62s 42ms/step - loss: 0.3428 - accuracy: 0.8750 - val_loss: 0.2859 - val_accuracy: 0.8923\n",
            "Epoch 6/20\n",
            "1500/1500 [==============================] - 61s 40ms/step - loss: 0.3254 - accuracy: 0.8822 - val_loss: 0.2645 - val_accuracy: 0.9035\n",
            "Epoch 7/20\n",
            "1500/1500 [==============================] - 61s 41ms/step - loss: 0.3122 - accuracy: 0.8854 - val_loss: 0.2669 - val_accuracy: 0.8982\n",
            "Epoch 8/20\n",
            "1500/1500 [==============================] - 62s 41ms/step - loss: 0.3037 - accuracy: 0.8878 - val_loss: 0.2611 - val_accuracy: 0.9006\n",
            "Epoch 9/20\n",
            "1500/1500 [==============================] - 61s 41ms/step - loss: 0.2968 - accuracy: 0.8920 - val_loss: 0.2572 - val_accuracy: 0.9047\n",
            "Epoch 10/20\n",
            "1500/1500 [==============================] - 59s 39ms/step - loss: 0.2867 - accuracy: 0.8939 - val_loss: 0.2531 - val_accuracy: 0.9060\n",
            "Epoch 11/20\n",
            "1500/1500 [==============================] - 61s 41ms/step - loss: 0.2801 - accuracy: 0.8953 - val_loss: 0.2525 - val_accuracy: 0.9047\n",
            "Epoch 12/20\n",
            "1500/1500 [==============================] - 59s 39ms/step - loss: 0.2768 - accuracy: 0.8963 - val_loss: 0.2506 - val_accuracy: 0.9062\n",
            "Epoch 13/20\n",
            "1500/1500 [==============================] - 61s 41ms/step - loss: 0.2737 - accuracy: 0.8996 - val_loss: 0.2391 - val_accuracy: 0.9114\n",
            "Epoch 14/20\n",
            "1500/1500 [==============================] - 61s 40ms/step - loss: 0.2643 - accuracy: 0.9013 - val_loss: 0.2574 - val_accuracy: 0.9044\n",
            "Epoch 15/20\n",
            "1500/1500 [==============================] - 60s 40ms/step - loss: 0.2663 - accuracy: 0.9009 - val_loss: 0.2431 - val_accuracy: 0.9099\n",
            "Epoch 16/20\n",
            "1500/1500 [==============================] - 60s 40ms/step - loss: 0.2593 - accuracy: 0.9030 - val_loss: 0.2346 - val_accuracy: 0.9158\n",
            "Epoch 17/20\n",
            "1500/1500 [==============================] - 62s 41ms/step - loss: 0.2560 - accuracy: 0.9035 - val_loss: 0.2417 - val_accuracy: 0.9132\n",
            "Epoch 18/20\n",
            "1500/1500 [==============================] - 61s 41ms/step - loss: 0.2546 - accuracy: 0.9044 - val_loss: 0.2384 - val_accuracy: 0.9138\n",
            "Epoch 19/20\n",
            "1500/1500 [==============================] - 59s 39ms/step - loss: 0.2466 - accuracy: 0.9086 - val_loss: 0.2460 - val_accuracy: 0.9128\n",
            "Epoch 20/20\n",
            "1500/1500 [==============================] - 61s 41ms/step - loss: 0.2455 - accuracy: 0.9078 - val_loss: 0.2413 - val_accuracy: 0.9133\n",
            "Epoch 1/20\n",
            "750/750 [==============================] - 59s 77ms/step - loss: 0.7097 - accuracy: 0.7379 - val_loss: 0.4385 - val_accuracy: 0.8443\n",
            "Epoch 2/20\n",
            "750/750 [==============================] - 55s 74ms/step - loss: 0.4730 - accuracy: 0.8290 - val_loss: 0.3718 - val_accuracy: 0.8629\n",
            "Epoch 3/20\n",
            "750/750 [==============================] - 55s 73ms/step - loss: 0.4168 - accuracy: 0.8496 - val_loss: 0.3285 - val_accuracy: 0.8788\n",
            "Epoch 4/20\n",
            "750/750 [==============================] - 55s 73ms/step - loss: 0.3798 - accuracy: 0.8620 - val_loss: 0.3024 - val_accuracy: 0.8873\n",
            "Epoch 5/20\n",
            "750/750 [==============================] - 57s 76ms/step - loss: 0.3560 - accuracy: 0.8707 - val_loss: 0.2867 - val_accuracy: 0.8921\n",
            "Epoch 6/20\n",
            "750/750 [==============================] - 57s 76ms/step - loss: 0.3376 - accuracy: 0.8758 - val_loss: 0.2818 - val_accuracy: 0.8972\n",
            "Epoch 7/20\n",
            "750/750 [==============================] - 54s 73ms/step - loss: 0.3216 - accuracy: 0.8827 - val_loss: 0.2696 - val_accuracy: 0.9018\n",
            "Epoch 8/20\n",
            "750/750 [==============================] - 57s 77ms/step - loss: 0.3094 - accuracy: 0.8878 - val_loss: 0.2647 - val_accuracy: 0.9023\n",
            "Epoch 9/20\n",
            "750/750 [==============================] - 54s 72ms/step - loss: 0.3023 - accuracy: 0.8891 - val_loss: 0.2561 - val_accuracy: 0.9070\n",
            "Epoch 10/20\n",
            "750/750 [==============================] - 57s 76ms/step - loss: 0.2924 - accuracy: 0.8913 - val_loss: 0.2511 - val_accuracy: 0.9075\n",
            "Epoch 11/20\n",
            "750/750 [==============================] - 54s 72ms/step - loss: 0.2852 - accuracy: 0.8957 - val_loss: 0.2508 - val_accuracy: 0.9043\n",
            "Epoch 12/20\n",
            "750/750 [==============================] - 56s 75ms/step - loss: 0.2793 - accuracy: 0.8953 - val_loss: 0.2627 - val_accuracy: 0.8979\n",
            "Epoch 13/20\n",
            "750/750 [==============================] - 56s 74ms/step - loss: 0.2751 - accuracy: 0.8975 - val_loss: 0.2506 - val_accuracy: 0.9075\n",
            "Epoch 14/20\n",
            "750/750 [==============================] - 55s 74ms/step - loss: 0.2720 - accuracy: 0.8995 - val_loss: 0.2346 - val_accuracy: 0.9128\n",
            "Epoch 15/20\n",
            "750/750 [==============================] - 56s 74ms/step - loss: 0.2639 - accuracy: 0.9033 - val_loss: 0.2309 - val_accuracy: 0.9137\n",
            "Epoch 16/20\n",
            "750/750 [==============================] - 54s 71ms/step - loss: 0.2564 - accuracy: 0.9054 - val_loss: 0.2396 - val_accuracy: 0.9131\n",
            "Epoch 17/20\n",
            "750/750 [==============================] - 57s 76ms/step - loss: 0.2576 - accuracy: 0.9050 - val_loss: 0.2371 - val_accuracy: 0.9123\n",
            "Epoch 18/20\n",
            "750/750 [==============================] - 56s 75ms/step - loss: 0.2485 - accuracy: 0.9070 - val_loss: 0.2318 - val_accuracy: 0.9162\n",
            "Epoch 19/20\n",
            "750/750 [==============================] - 53s 70ms/step - loss: 0.2511 - accuracy: 0.9076 - val_loss: 0.2332 - val_accuracy: 0.9136\n",
            "Epoch 20/20\n",
            "750/750 [==============================] - 55s 73ms/step - loss: 0.2396 - accuracy: 0.9095 - val_loss: 0.2358 - val_accuracy: 0.9127\n",
            "Epoch 1/20\n",
            "1500/1500 [==============================] - 64s 42ms/step - loss: 1.0391 - accuracy: 0.6303 - val_loss: 0.6182 - val_accuracy: 0.7730\n",
            "Epoch 2/20\n",
            "1500/1500 [==============================] - 62s 42ms/step - loss: 0.6709 - accuracy: 0.7551 - val_loss: 0.5316 - val_accuracy: 0.8034\n",
            "Epoch 3/20\n",
            "1500/1500 [==============================] - 61s 40ms/step - loss: 0.5974 - accuracy: 0.7794 - val_loss: 0.4871 - val_accuracy: 0.8186\n",
            "Epoch 4/20\n",
            "1500/1500 [==============================] - 62s 42ms/step - loss: 0.5514 - accuracy: 0.7987 - val_loss: 0.4525 - val_accuracy: 0.8332\n",
            "Epoch 5/20\n",
            "1500/1500 [==============================] - 61s 41ms/step - loss: 0.5161 - accuracy: 0.8108 - val_loss: 0.4297 - val_accuracy: 0.8411\n",
            "Epoch 6/20\n",
            "1500/1500 [==============================] - 63s 42ms/step - loss: 0.4918 - accuracy: 0.8206 - val_loss: 0.4131 - val_accuracy: 0.8508\n",
            "Epoch 7/20\n",
            "1500/1500 [==============================] - 62s 42ms/step - loss: 0.4700 - accuracy: 0.8272 - val_loss: 0.3994 - val_accuracy: 0.8575\n",
            "Epoch 8/20\n",
            "1500/1500 [==============================] - 63s 42ms/step - loss: 0.4530 - accuracy: 0.8338 - val_loss: 0.3840 - val_accuracy: 0.8579\n",
            "Epoch 9/20\n",
            "1500/1500 [==============================] - 62s 41ms/step - loss: 0.4393 - accuracy: 0.8393 - val_loss: 0.3693 - val_accuracy: 0.8646\n",
            "Epoch 10/20\n",
            "1500/1500 [==============================] - 62s 41ms/step - loss: 0.4248 - accuracy: 0.8465 - val_loss: 0.3614 - val_accuracy: 0.8671\n",
            "Epoch 11/20\n",
            "1500/1500 [==============================] - 60s 40ms/step - loss: 0.4132 - accuracy: 0.8507 - val_loss: 0.3508 - val_accuracy: 0.8735\n",
            "Epoch 12/20\n",
            "1500/1500 [==============================] - 63s 42ms/step - loss: 0.4009 - accuracy: 0.8539 - val_loss: 0.3388 - val_accuracy: 0.8748\n",
            "Epoch 13/20\n",
            "1500/1500 [==============================] - 63s 42ms/step - loss: 0.3929 - accuracy: 0.8586 - val_loss: 0.3311 - val_accuracy: 0.8777\n",
            "Epoch 14/20\n",
            "1500/1500 [==============================] - 62s 42ms/step - loss: 0.3828 - accuracy: 0.8603 - val_loss: 0.3258 - val_accuracy: 0.8818\n",
            "Epoch 15/20\n",
            "1500/1500 [==============================] - 60s 40ms/step - loss: 0.3742 - accuracy: 0.8636 - val_loss: 0.3196 - val_accuracy: 0.8812\n",
            "Epoch 16/20\n",
            "1500/1500 [==============================] - 62s 41ms/step - loss: 0.3670 - accuracy: 0.8665 - val_loss: 0.3110 - val_accuracy: 0.8848\n",
            "Epoch 17/20\n",
            "1500/1500 [==============================] - 61s 41ms/step - loss: 0.3602 - accuracy: 0.8711 - val_loss: 0.3038 - val_accuracy: 0.8892\n",
            "Epoch 18/20\n",
            "1500/1500 [==============================] - 62s 42ms/step - loss: 0.3523 - accuracy: 0.8730 - val_loss: 0.2987 - val_accuracy: 0.8903\n",
            "Epoch 19/20\n",
            "1500/1500 [==============================] - 64s 43ms/step - loss: 0.3483 - accuracy: 0.8736 - val_loss: 0.2938 - val_accuracy: 0.8905\n",
            "Epoch 20/20\n",
            "1500/1500 [==============================] - 64s 42ms/step - loss: 0.3415 - accuracy: 0.8773 - val_loss: 0.2927 - val_accuracy: 0.8914\n",
            "Epoch 1/20\n",
            "750/750 [==============================] - 57s 75ms/step - loss: 1.1525 - accuracy: 0.5856 - val_loss: 0.6621 - val_accuracy: 0.7613\n",
            "Epoch 2/20\n",
            "750/750 [==============================] - 59s 79ms/step - loss: 0.7165 - accuracy: 0.7364 - val_loss: 0.5706 - val_accuracy: 0.7879\n",
            "Epoch 3/20\n",
            "750/750 [==============================] - 59s 78ms/step - loss: 0.6366 - accuracy: 0.7615 - val_loss: 0.5145 - val_accuracy: 0.8075\n",
            "Epoch 4/20\n",
            "750/750 [==============================] - 56s 75ms/step - loss: 0.5885 - accuracy: 0.7794 - val_loss: 0.4826 - val_accuracy: 0.8189\n",
            "Epoch 5/20\n",
            "750/750 [==============================] - 58s 77ms/step - loss: 0.5556 - accuracy: 0.7944 - val_loss: 0.4598 - val_accuracy: 0.8362\n",
            "Epoch 6/20\n",
            "750/750 [==============================] - 56s 74ms/step - loss: 0.5272 - accuracy: 0.8061 - val_loss: 0.4358 - val_accuracy: 0.8420\n",
            "Epoch 7/20\n",
            "750/750 [==============================] - 58s 78ms/step - loss: 0.5062 - accuracy: 0.8148 - val_loss: 0.4218 - val_accuracy: 0.8482\n",
            "Epoch 8/20\n",
            "750/750 [==============================] - 56s 74ms/step - loss: 0.4894 - accuracy: 0.8226 - val_loss: 0.4054 - val_accuracy: 0.8551\n",
            "Epoch 9/20\n",
            "750/750 [==============================] - 58s 78ms/step - loss: 0.4697 - accuracy: 0.8287 - val_loss: 0.3935 - val_accuracy: 0.8565\n",
            "Epoch 10/20\n",
            "750/750 [==============================] - 56s 74ms/step - loss: 0.4581 - accuracy: 0.8336 - val_loss: 0.3844 - val_accuracy: 0.8643\n",
            "Epoch 11/20\n",
            "750/750 [==============================] - 58s 78ms/step - loss: 0.4478 - accuracy: 0.8382 - val_loss: 0.3722 - val_accuracy: 0.8683\n",
            "Epoch 12/20\n",
            "750/750 [==============================] - 56s 75ms/step - loss: 0.4318 - accuracy: 0.8452 - val_loss: 0.3612 - val_accuracy: 0.8707\n",
            "Epoch 13/20\n",
            "750/750 [==============================] - 58s 78ms/step - loss: 0.4219 - accuracy: 0.8463 - val_loss: 0.3537 - val_accuracy: 0.8761\n",
            "Epoch 14/20\n",
            "750/750 [==============================] - 59s 78ms/step - loss: 0.4114 - accuracy: 0.8531 - val_loss: 0.3462 - val_accuracy: 0.8737\n",
            "Epoch 15/20\n",
            "750/750 [==============================] - 58s 78ms/step - loss: 0.4045 - accuracy: 0.8535 - val_loss: 0.3393 - val_accuracy: 0.8773\n",
            "Epoch 16/20\n",
            "750/750 [==============================] - 57s 76ms/step - loss: 0.3986 - accuracy: 0.8583 - val_loss: 0.3324 - val_accuracy: 0.8795\n",
            "Epoch 17/20\n",
            "750/750 [==============================] - 60s 79ms/step - loss: 0.3887 - accuracy: 0.8600 - val_loss: 0.3292 - val_accuracy: 0.8807\n",
            "Epoch 18/20\n",
            "750/750 [==============================] - 59s 79ms/step - loss: 0.3838 - accuracy: 0.8628 - val_loss: 0.3221 - val_accuracy: 0.8818\n",
            "Epoch 19/20\n",
            "750/750 [==============================] - 58s 77ms/step - loss: 0.3763 - accuracy: 0.8636 - val_loss: 0.3186 - val_accuracy: 0.8810\n",
            "Epoch 20/20\n",
            "750/750 [==============================] - 57s 76ms/step - loss: 0.3720 - accuracy: 0.8663 - val_loss: 0.3138 - val_accuracy: 0.8840\n",
            "   learning_rate  batch_size  val_accuracy\n",
            "0         0.0010          32      0.913250\n",
            "1         0.0010          64      0.912667\n",
            "2         0.0001          32      0.891417\n",
            "3         0.0001          64      0.884000\n"
          ]
        }
      ]
    },
    {
      "cell_type": "markdown",
      "source": [
        "## Model Assessment\n",
        "Evaluate the final model on the test set:"
      ],
      "metadata": {
        "id": "noKr6X_Fg_Ee"
      }
    },
    {
      "cell_type": "code",
      "source": [
        "\n",
        "best_params = results_df.loc[results_df['val_accuracy'].idxmax()]\n",
        "best_model = build_model(input_shape, learning_rate=best_params['learning_rate'])\n",
        "\n",
        "best_batch_size = int(best_params['batch_size'])\n",
        "history = best_model.fit(x_train, y_train, validation_data=(x_val, y_val),\n",
        "                        epochs=20, batch_size=best_batch_size, verbose=1)\n",
        "\n",
        "\n",
        "test_loss, test_accuracy = best_model.evaluate(x_test, y_test, verbose=1)\n",
        "print(f'Best Model Test Loss: {test_loss}, Test Accuracy: {test_accuracy}')"
      ],
      "metadata": {
        "colab": {
          "base_uri": "https://localhost:8080/"
        },
        "id": "l3rvLN-5hEi0",
        "outputId": "60f45357-6bc9-4147-85d3-11ab3f799117"
      },
      "execution_count": null,
      "outputs": [
        {
          "output_type": "stream",
          "name": "stdout",
          "text": [
            "Epoch 1/20\n",
            "1500/1500 [==============================] - 66s 41ms/step - loss: 0.6580 - accuracy: 0.7608 - val_loss: 0.4303 - val_accuracy: 0.8429\n",
            "Epoch 2/20\n",
            "1500/1500 [==============================] - 60s 40ms/step - loss: 0.4516 - accuracy: 0.8359 - val_loss: 0.3511 - val_accuracy: 0.8704\n",
            "Epoch 3/20\n",
            "1500/1500 [==============================] - 62s 41ms/step - loss: 0.3908 - accuracy: 0.8572 - val_loss: 0.3054 - val_accuracy: 0.8890\n",
            "Epoch 4/20\n",
            "1500/1500 [==============================] - 62s 41ms/step - loss: 0.3600 - accuracy: 0.8682 - val_loss: 0.2868 - val_accuracy: 0.8916\n",
            "Epoch 5/20\n",
            "1500/1500 [==============================] - 61s 41ms/step - loss: 0.3386 - accuracy: 0.8758 - val_loss: 0.2806 - val_accuracy: 0.8945\n",
            "Epoch 6/20\n",
            "1500/1500 [==============================] - 61s 40ms/step - loss: 0.3255 - accuracy: 0.8806 - val_loss: 0.2968 - val_accuracy: 0.8870\n",
            "Epoch 7/20\n",
            "1500/1500 [==============================] - 61s 41ms/step - loss: 0.3115 - accuracy: 0.8871 - val_loss: 0.2824 - val_accuracy: 0.8948\n",
            "Epoch 8/20\n",
            "1500/1500 [==============================] - 61s 41ms/step - loss: 0.3013 - accuracy: 0.8889 - val_loss: 0.2550 - val_accuracy: 0.9044\n",
            "Epoch 9/20\n",
            "1500/1500 [==============================] - 59s 40ms/step - loss: 0.2933 - accuracy: 0.8925 - val_loss: 0.2513 - val_accuracy: 0.9053\n",
            "Epoch 10/20\n",
            "1500/1500 [==============================] - 60s 40ms/step - loss: 0.2832 - accuracy: 0.8959 - val_loss: 0.2473 - val_accuracy: 0.9087\n",
            "Epoch 11/20\n",
            "1500/1500 [==============================] - 61s 41ms/step - loss: 0.2811 - accuracy: 0.8970 - val_loss: 0.2470 - val_accuracy: 0.9067\n",
            "Epoch 12/20\n",
            "1500/1500 [==============================] - 62s 42ms/step - loss: 0.2739 - accuracy: 0.8994 - val_loss: 0.2393 - val_accuracy: 0.9107\n",
            "Epoch 13/20\n",
            "1500/1500 [==============================] - 62s 41ms/step - loss: 0.2705 - accuracy: 0.9010 - val_loss: 0.2442 - val_accuracy: 0.9088\n",
            "Epoch 14/20\n",
            "1500/1500 [==============================] - 59s 39ms/step - loss: 0.2648 - accuracy: 0.9014 - val_loss: 0.2384 - val_accuracy: 0.9123\n",
            "Epoch 15/20\n",
            "1500/1500 [==============================] - 59s 39ms/step - loss: 0.2610 - accuracy: 0.9042 - val_loss: 0.2361 - val_accuracy: 0.9112\n",
            "Epoch 16/20\n",
            "1500/1500 [==============================] - 62s 41ms/step - loss: 0.2576 - accuracy: 0.9047 - val_loss: 0.2457 - val_accuracy: 0.9082\n",
            "Epoch 17/20\n",
            "1500/1500 [==============================] - 60s 40ms/step - loss: 0.2533 - accuracy: 0.9053 - val_loss: 0.2331 - val_accuracy: 0.9130\n",
            "Epoch 18/20\n",
            "1500/1500 [==============================] - 61s 41ms/step - loss: 0.2507 - accuracy: 0.9066 - val_loss: 0.2274 - val_accuracy: 0.9142\n",
            "Epoch 19/20\n",
            "1500/1500 [==============================] - 58s 39ms/step - loss: 0.2452 - accuracy: 0.9080 - val_loss: 0.2301 - val_accuracy: 0.9124\n",
            "Epoch 20/20\n",
            "1500/1500 [==============================] - 61s 41ms/step - loss: 0.2444 - accuracy: 0.9083 - val_loss: 0.2384 - val_accuracy: 0.9103\n",
            "313/313 [==============================] - 3s 10ms/step - loss: 0.2561 - accuracy: 0.9060\n",
            "Best Model Test Loss: 0.2560531198978424, Test Accuracy: 0.906000018119812\n"
          ]
        }
      ]
    }
  ]
}